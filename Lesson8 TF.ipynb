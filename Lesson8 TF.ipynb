{
 "cells": [
  {
   "cell_type": "code",
   "execution_count": 5,
   "metadata": {
    "collapsed": false,
    "deletable": true,
    "editable": true
   },
   "outputs": [
    {
     "ename": "SyntaxError",
     "evalue": "invalid syntax (<ipython-input-5-be05e5c9da8a>, line 24)",
     "output_type": "error",
     "traceback": [
      "\u001b[0;36m  File \u001b[0;32m\"<ipython-input-5-be05e5c9da8a>\"\u001b[0;36m, line \u001b[0;32m24\u001b[0m\n\u001b[0;31m    weighted_sum_1 = tf.matmul(normilized_input,weights_1) + bias_1\u001b[0m\n\u001b[0m                 ^\u001b[0m\n\u001b[0;31mSyntaxError\u001b[0m\u001b[0;31m:\u001b[0m invalid syntax\n"
     ]
    }
   ],
   "source": [
    "import tensorflow as tf\n",
    "with tf.Graph().as_default() as g:\n",
    "    with tf.Session() as sess:\n",
    "        lst1 = [[10,7],[5,4],[8,3],[2,8],[4,8],[9,1],[6,8],[1,7],[5,3],[7,6]]\n",
    "        lst2 = [[97],[71],[74],[78],[90],[68],[95],[65],[70],[92]]\n",
    "        \n",
    "        input = tf.placeholder(dtype=tf.float32, shape=None, name=None)\n",
    "        output =  tf.placeholder(dtype=tf.float32, shape=None, name=None)\n",
    "        \n",
    "        fid_dict = {input: lst1, output: lst2}\n",
    "        \n",
    "        max_input = tf.reduce_max(input, 0)\n",
    "        normilized_input = input/ max_input\n",
    "        \n",
    "        max_output = tf.reduce_max(output)\n",
    "        normilzed_output = output/ max_output\n",
    "        \n",
    "        num_neurons_1 = 2\n",
    "        num_neurons_2 = 3\n",
    "        num_neurons_3 = 1\n",
    "        \n",
    "        weights_1 = tf.Variable(tf.random_normal(shape = [num_neurons_1,num_neurons_2]))\n",
    "        bias_1 = tf.Variable(tf.random_normal(shape = num_neurons_2 )\n",
    "        weighted_sum_1 = tf.matmul(normilized_input,weights_1) + bias_1\n",
    "        activation_1 = tf.sigmoid(weighted_sum_1)\n",
    "        \n",
    "        weights_2 = tf.Variable(tf.random_normal(shape = [num_neurons_2,num_neurons_3]))\n",
    "        bias_2 = tf.Variable(tf.random_normal(shape = num_neurons_3))                     \n",
    "        weighted_sum_2 = tf.matmul(activation_1,weights_2) + bias_2\n",
    "        activation_2 = tf.sigmoid(weighted_sum_2)\n",
    "        \n",
    "        loss = tf.reduce_sum((activation_2 - normalized_output)**2) / 10\n",
    "        \n",
    "         train_step = tf.train.GradientDescentOptimizer(learning_rate=2.0).minimize(loss)       \n",
    "        with tf.Session() as sess:\n",
    "    sess.run(tf.global_variables_initializer())\n",
    "\n",
    "        for i in range(EPOCHS):\n",
    "      sess.run(train_step, feed_dict = train_data)\n",
    "        \n",
    "        \n",
    "        \n",
    "        \n",
    "        \n",
    "        "
   ]
  },
  {
   "cell_type": "code",
   "execution_count": null,
   "metadata": {
    "collapsed": true,
    "deletable": true,
    "editable": true
   },
   "outputs": [],
   "source": []
  }
 ],
 "metadata": {
  "kernelspec": {
   "display_name": "Python 3",
   "language": "python",
   "name": "python3"
  },
  "language_info": {
   "codemirror_mode": {
    "name": "ipython",
    "version": 3
   },
   "file_extension": ".py",
   "mimetype": "text/x-python",
   "name": "python",
   "nbconvert_exporter": "python",
   "pygments_lexer": "ipython3",
   "version": "3.6.0"
  }
 },
 "nbformat": 4,
 "nbformat_minor": 2
}
