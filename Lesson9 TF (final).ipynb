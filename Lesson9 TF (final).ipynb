{
 "cells": [
  {
   "cell_type": "code",
   "execution_count": 3,
   "metadata": {
    "collapsed": false,
    "deletable": true,
    "editable": true
   },
   "outputs": [],
   "source": [
    "import tensorflow as tf"
   ]
  },
  {
   "cell_type": "code",
   "execution_count": 14,
   "metadata": {
    "collapsed": false,
    "deletable": true,
    "editable": true,
    "scrolled": true
   },
   "outputs": [
    {
     "ename": "SyntaxError",
     "evalue": "invalid syntax (<ipython-input-14-25014c4aebfb>, line 12)",
     "output_type": "error",
     "traceback": [
      "\u001b[0;36m  File \u001b[0;32m\"<ipython-input-14-25014c4aebfb>\"\u001b[0;36m, line \u001b[0;32m12\u001b[0m\n\u001b[0;31m    loss = tf.nn.softmax_cross_entropy_with_logits(labels = y_, logits = )\u001b[0m\n\u001b[0m                                                                         ^\u001b[0m\n\u001b[0;31mSyntaxError\u001b[0m\u001b[0;31m:\u001b[0m invalid syntax\n"
     ]
    }
   ],
   "source": [
    "from tensorflow.examples.tutorials.mnist import input_data\n",
    "\n",
    "mnist = input_data.read_data_sets(\"MNIST_data/\", one_hot = True)\n",
    "\n",
    "x = tf.placeholder(tf.float32, [None, 784])\n",
    "w = tf.Variable(tf.zeros([784, 10]))\n",
    "y = tf.Variable(tf.zeros([ 10]))\n",
    "\n",
    "y = tf.matmul(x,w) + b\n",
    "y_ = tf.placeholder(tf.float32, [None, 10])\n",
    "\n",
    "loss = tf.nn.softmax_cross_entropy_with_logits(labels = y_, logits = )\n",
    "\n",
    "train_step = tf.train.GradientDescentOptimizer(learning_rate = 0.1).minst\n",
    "\n",
    "sess = tf.InteractiveSession()\n",
    "sess.run(tf.global_variables_initializer())\n",
    "for _ in range(100):\n",
    "    features, output = mnist.train.next_batch(100)\n",
    "    sess.run(train_step, feed_dict = {x: features, y:output})\n",
    "\n",
    "percent_correct = tf.reduce_mean(tf.cast(tf.agrmax(y).eval() == tf.argmax(y_).eval()))\n",
    "#print(sess.run(loss, feed_dict= {x: mnist.test.images, y: mnist.}))\n",
    "sess.close()"
   ]
  },
  {
   "cell_type": "code",
   "execution_count": null,
   "metadata": {
    "collapsed": false,
    "deletable": true,
    "editable": true
   },
   "outputs": [],
   "source": []
  }
 ],
 "metadata": {
  "kernelspec": {
   "display_name": "Python 3",
   "language": "python",
   "name": "python3"
  },
  "language_info": {
   "codemirror_mode": {
    "name": "ipython",
    "version": 3
   },
   "file_extension": ".py",
   "mimetype": "text/x-python",
   "name": "python",
   "nbconvert_exporter": "python",
   "pygments_lexer": "ipython3",
   "version": "3.6.0"
  }
 },
 "nbformat": 4,
 "nbformat_minor": 2
}
