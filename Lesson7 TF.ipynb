{
 "cells": [
  {
   "cell_type": "code",
   "execution_count": 5,
   "metadata": {
    "collapsed": false
   },
   "outputs": [],
   "source": [
    "import tensorflow as tf"
   ]
  },
  {
   "cell_type": "code",
   "execution_count": 64,
   "metadata": {
    "collapsed": false
   },
   "outputs": [
    {
     "name": "stdout",
     "output_type": "stream",
     "text": [
      "7.2\n",
      "[<tf.Operation 'Const' type=Const>, <tf.Operation 'Variable/initial_value' type=Const>, <tf.Operation 'Variable' type=VariableV2>, <tf.Operation 'Variable/Assign' type=Assign>, <tf.Operation 'Variable/read' type=Identity>, <tf.Operation 'init' type=NoOp>, <tf.Operation 'Mul' type=Mul>]\n",
      "0.713687\n",
      "2.432\n",
      "0.0884283\n",
      "2.58406\n",
      "0.0109567\n",
      "2.63759\n",
      "0.00135764\n",
      "2.65643\n",
      "0.000168195\n",
      "2.66306\n",
      "2.08414e-05\n",
      "2.6654\n",
      "2.58226e-06\n",
      "2.66622\n",
      "3.19823e-07\n",
      "2.66651\n",
      "3.97276e-08\n",
      "2.66661\n",
      "4.98039e-09\n",
      "2.66665\n",
      "6.14818e-10\n",
      "2.66666\n",
      "7.36691e-11\n",
      "2.66666\n",
      "1.45519e-11\n",
      "2.66667\n",
      "9.09495e-13\n",
      "2.66667\n",
      "0.0\n",
      "2.66667\n",
      "0.0\n",
      "2.66667\n",
      "0.0\n",
      "2.66667\n",
      "0.0\n",
      "2.66667\n",
      "0.0\n",
      "2.66667\n",
      "0.0\n",
      "2.66667\n"
     ]
    }
   ],
   "source": [
    "with tf.Graph().as_default() as g:\n",
    "    with tf.Session() as sess:\n",
    "        _input = tf.constant(3.6)\n",
    "        weight = tf.Variable(2.0)\n",
    "        initialize = tf.global_variables_initializer()\n",
    "        output = tf.multiply(_input,weight)\n",
    "        sess.run(initialize)\n",
    "        print(sess.run(output))\n",
    "        print(g.get_operations())\n",
    "        output_ = 3.2*3\n",
    "        loss = (output -output_)**2\n",
    "        optimizer = tf.train.GradientDescentOptimizer(0.025)\n",
    "        train_step =optimizer.minimize(loss) \n",
    "        for i in range(20):\n",
    "            (sess.run(train_step))\n",
    "            print(sess.run(loss))\n",
    "            print(sess.run(weight))"
   ]
  },
  {
   "cell_type": "code",
   "execution_count": null,
   "metadata": {
    "collapsed": true
   },
   "outputs": [],
   "source": []
  },
  {
   "cell_type": "code",
   "execution_count": null,
   "metadata": {
    "collapsed": true
   },
   "outputs": [],
   "source": []
  }
 ],
 "metadata": {
  "kernelspec": {
   "display_name": "Python 3",
   "language": "python",
   "name": "python3"
  },
  "language_info": {
   "codemirror_mode": {
    "name": "ipython",
    "version": 3
   },
   "file_extension": ".py",
   "mimetype": "text/x-python",
   "name": "python",
   "nbconvert_exporter": "python",
   "pygments_lexer": "ipython3",
   "version": "3.6.0"
  }
 },
 "nbformat": 4,
 "nbformat_minor": 2
}
