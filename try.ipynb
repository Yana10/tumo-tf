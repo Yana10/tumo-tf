{
 "cells": [
  {
   "cell_type": "code",
   "execution_count": 20,
   "metadata": {
    "collapsed": false,
    "deletable": true,
    "editable": true
   },
   "outputs": [
    {
     "name": "stdout",
     "output_type": "stream",
     "text": [
      "Move 1 From A To B\n",
      "Move 2 From A To C\n",
      "Move 1 From B To C\n",
      "Move 3 From A To B\n",
      "Move 1 From C To A\n",
      "Move 2 From C To B\n",
      "Move 1 From A To B\n",
      "Move 4 From A To C\n",
      "Move 1 From B To C\n",
      "Move 2 From B To A\n",
      "Move 1 From C To A\n",
      "Move 3 From B To C\n",
      "Move 1 From A To B\n",
      "Move 2 From A To C\n",
      "Move 1 From B To C\n",
      "total =  15\n"
     ]
    }
   ],
   "source": [
    "total = 0\n",
    "\n",
    "def hanoi(n, frm, to, tmp):\n",
    "    global total\n",
    "    if n:\n",
    "        hanoi(n - 1, frm, tmp, to)\n",
    "        print (\"Move %d From %s To %s\" % (n, frm, to))\n",
    "        total += 1\n",
    "        hanoi(n - 1, tmp, to, frm)\n",
    "\n",
    "hanoi(4, 'A', 'C', 'B')\n",
    "print (\"total = \", total)"
   ]
  },
  {
   "cell_type": "code",
   "execution_count": null,
   "metadata": {
    "collapsed": true,
    "deletable": true,
    "editable": true
   },
   "outputs": [],
   "source": []
  }
 ],
 "metadata": {
  "kernelspec": {
   "display_name": "Python 3",
   "language": "python",
   "name": "python3"
  },
  "language_info": {
   "codemirror_mode": {
    "name": "ipython",
    "version": 3
   },
   "file_extension": ".py",
   "mimetype": "text/x-python",
   "name": "python",
   "nbconvert_exporter": "python",
   "pygments_lexer": "ipython3",
   "version": "3.6.0"
  }
 },
 "nbformat": 4,
 "nbformat_minor": 2
}
